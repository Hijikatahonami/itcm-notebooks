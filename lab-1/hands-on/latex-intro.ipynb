{
 "cells": [
  {
   "cell_type": "markdown",
   "metadata": {
    "slideshow": {
     "slide_type": "slide"
    }
   },
   "source": [
    "# LaTeX and Markdown Tutorial\n",
    "\n",
    "In this notebook you will learn how to edit mathematical function by using LaTeX."
   ]
  },
  {
   "cell_type": "markdown",
   "metadata": {
    "slideshow": {
     "slide_type": "slide"
    }
   },
   "source": [
    "## For example"
   ]
  },
  {
   "cell_type": "markdown",
   "metadata": {
    "slideshow": {
     "slide_type": "subslide"
    }
   },
   "source": [
    "## Integration by parts\n",
    "\n",
    "If $u\\;=\\;u(x)$ and $du\\;=\\;u'(x)\\;dx$, while $v\\;=\\;v(x)$ and $dv\\;=\\;v'(x)\\;dx$, then integration by parts states that:<br>\n",
    "\n",
    "$$\\begin{align}\n",
    "\\int_a^b\\;u(x) v'(x)\\;dx\\,\n",
    "&=\\,\\left[\\;u(x)v(x)\\;\\right]_a^b\\,-\\,\\int_a^b\\,u'(x)v(x)\\,dx\\\\\n",
    "&=\\,u(b)v(b)\\;-\\;u(a)v(a)\\;-\\;\\int_a^b\\;u'(x)v(x)\\;dx\n",
    "\\end{align}$$"
   ]
  },
  {
   "cell_type": "markdown",
   "metadata": {
    "slideshow": {
     "slide_type": "subslide"
    }
   },
   "source": [
    "or more compactly:<br>\n",
    "\n",
    "$$\\int\\;u\\;dv\\,\n",
    "=\\,uv\\;-\\;\\int\\;v\\;du$$"
   ]
  },
  {
   "cell_type": "raw",
   "metadata": {
    "slideshow": {
     "slide_type": "slide"
    }
   },
   "source": [
    "## Integration by parts\n",
    "\n",
    "If $u\\;=\\;u(x)$ and $du\\;=\\;u'(x)\\;dx$, while $v\\;=\\;v(x)$ and $dv\\;=\\;v'(x)\\;dx$, then integration by parts states that:<br>\n",
    "\n",
    "$$\\begin{align}\n",
    "\\int_a^b\\;u(x) v'(x)\\;dx\\,\n",
    "&=\\,\\left[\\;u(x)v(x)\\;\\right]_a^b\\,-\\,\\int_a^b\\,u'(x)v(x)\\,dx\\\\\n",
    "&=\\,u(b)v(b)\\;-\\;u(a)v(a)\\;-\\;\\int_a^b\\;u'(x)v(x)\\;dx\n",
    "\\end{align}$$\n",
    "\n",
    "or more compactly:<br>\n",
    "\n",
    "$$\\int\\;u\\;dv\\,=\\,uv\\;-\\;\\int\\;v\\;du$$"
   ]
  },
  {
   "cell_type": "markdown",
   "metadata": {
    "slideshow": {
     "slide_type": "slide"
    }
   },
   "source": [
    "## Document templete\n",
    "\n",
    "Link: https://drive.google.com/open?id=1C5rmTizSwqxGp0mI5Nj_EQbn_cG3NopI"
   ]
  },
  {
   "cell_type": "markdown",
   "metadata": {
    "slideshow": {
     "slide_type": "slide"
    }
   },
   "source": [
    "## Symbols"
   ]
  },
  {
   "cell_type": "markdown",
   "metadata": {
    "slideshow": {
     "slide_type": "fragment"
    }
   },
   "source": [
    "|Output|LaTex|Output|LaTeX|Output|LaTeX|Output|LaTeX|Output|LaTeX|\n",
    "|:---:|:---:|:---:|:---:|:---:|:---:|:---:|:---:|:---:|:---:|\n",
    "|$$\\int$$|\\int|$$\\sum$$|\\sum|$$\\prod$$|\\prod|$$\\pi$$|\\pi|$$\\frac{n}{m}$$|\\frac{n}{m}|"
   ]
  },
  {
   "cell_type": "markdown",
   "metadata": {
    "slideshow": {
     "slide_type": "slide"
    }
   },
   "source": [
    "## Others matematical symbols\n",
    "\n",
    "Link: https://yuehchou.github.io//posts/latex/basic-latex-symbols/"
   ]
  },
  {
   "cell_type": "markdown",
   "metadata": {
    "slideshow": {
     "slide_type": "slide"
    }
   },
   "source": [
    "## End"
   ]
  }
 ],
 "metadata": {
  "celltoolbar": "Slideshow",
  "kernelspec": {
   "display_name": "Python 3",
   "language": "python",
   "name": "python3"
  },
  "language_info": {
   "codemirror_mode": {
    "name": "ipython",
    "version": 3
   },
   "file_extension": ".py",
   "mimetype": "text/x-python",
   "name": "python",
   "nbconvert_exporter": "python",
   "pygments_lexer": "ipython3",
   "version": "3.7.3"
  },
  "rise": {
   "autolaunch": true,
   "enable_chalkboard": true
  }
 },
 "nbformat": 4,
 "nbformat_minor": 2
}
